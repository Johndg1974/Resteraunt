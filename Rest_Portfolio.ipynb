{
 "cells": [
  {
   "cell_type": "code",
   "execution_count": 6,
   "metadata": {},
   "outputs": [],
   "source": [
    "import pandas as pd"
   ]
  },
  {
   "cell_type": "code",
   "execution_count": 7,
   "metadata": {},
   "outputs": [
    {
     "name": "stdout",
     "output_type": "stream",
     "text": [
      "     placeID   latitude   longitude  \\\n",
      "0     134999  18.915421  -99.184871   \n",
      "1     132825  22.147392 -100.983092   \n",
      "2     135106  22.149709 -100.976093   \n",
      "3     132667  23.752697  -99.163359   \n",
      "4     132613  23.752903  -99.165076   \n",
      "..       ...        ...         ...   \n",
      "125   132866  22.141220 -100.931311   \n",
      "126   135072  22.149192 -101.002936   \n",
      "127   135109  18.921785  -99.235350   \n",
      "128   135019  18.875011  -99.159422   \n",
      "129   132877  22.135364 -100.934948   \n",
      "\n",
      "                                        the_geom_meter  \\\n",
      "0    0101000020957F000088568DE356715AC138C0A525FC46...   \n",
      "1    0101000020957F00001AD016568C4858C1243261274BA5...   \n",
      "2    0101000020957F0000649D6F21634858C119AE9BF528A3...   \n",
      "3    0101000020957F00005D67BCDDED8157C1222A2DC8D84D...   \n",
      "4    0101000020957F00008EBA2D06DC8157C194E03B7B504E...   \n",
      "..                                                 ...   \n",
      "125  0101000020957F000013871838EC4A58C1B5DF74F8E396...   \n",
      "126  0101000020957F0000E7B79B1DB94758C1D29BC363D8AA...   \n",
      "127  0101000020957F0000A6BF695F136F5AC1DADF87B20556...   \n",
      "128  0101000020957F0000B49B2E5C6E785AC12F9D58435241...   \n",
      "129  0101000020957F000090735015B84B58C1AF0DC0414698...   \n",
      "\n",
      "                               name  \\\n",
      "0                   Kiku Cuernavaca   \n",
      "1                   puesto de tacos   \n",
      "2        El Rinc�n de San Francisco   \n",
      "3    little pizza Emilio Portes Gil   \n",
      "4                     carnitas_mata   \n",
      "..                              ...   \n",
      "125                         Chaires   \n",
      "126                      Sushi Itto   \n",
      "127                       Paniroles   \n",
      "128     Restaurant Bar Coty y Pablo   \n",
      "129                sirloin stockade   \n",
      "\n",
      "                                             address             city  \\\n",
      "0                                         Revolucion       Cuernavaca   \n",
      "1             esquina santos degollado y leon guzman           s.l.p.   \n",
      "2                                    Universidad 169  San Luis Potosi   \n",
      "3                            calle emilio portes gil        victoria    \n",
      "4                             lic. Emilio portes gil         victoria   \n",
      "..                                               ...              ...   \n",
      "125                                 Ricardo B. Anaya  San Luis Potosi   \n",
      "126               Venustiano Carranza 1809 C Polanco  San Luis Potosi   \n",
      "127                                                ?                ?   \n",
      "128  Paseo de Las Fuentes 24 Pedregal de Las Fuentes         Jiutepec   \n",
      "129                                                ?                ?   \n",
      "\n",
      "               state country fax  ...            alcohol   smoking_area  \\\n",
      "0            Morelos  Mexico   ?  ...  No_Alcohol_Served           none   \n",
      "1             s.l.p.  mexico   ?  ...  No_Alcohol_Served           none   \n",
      "2    San Luis Potosi  Mexico   ?  ...          Wine-Beer    only at bar   \n",
      "3         tamaulipas       ?   ?  ...  No_Alcohol_Served           none   \n",
      "4         Tamaulipas  Mexico   ?  ...  No_Alcohol_Served      permitted   \n",
      "..               ...     ...  ..  ...                ...            ...   \n",
      "125  San Luis Potosi  Mexico   ?  ...  No_Alcohol_Served  not permitted   \n",
      "126              SLP  Mexico   ?  ...  No_Alcohol_Served           none   \n",
      "127                ?       ?   ?  ...          Wine-Beer  not permitted   \n",
      "128          Morelos  Mexico   ?  ...  No_Alcohol_Served           none   \n",
      "129                ?       ?   ?  ...  No_Alcohol_Served           none   \n",
      "\n",
      "    dress_code     accessibility   price                    url Rambience  \\\n",
      "0     informal  no_accessibility  medium  kikucuernavaca.com.mx  familiar   \n",
      "1     informal        completely     low                      ?  familiar   \n",
      "2     informal         partially  medium                      ?  familiar   \n",
      "3     informal        completely     low                      ?  familiar   \n",
      "4     informal        completely  medium                      ?  familiar   \n",
      "..         ...               ...     ...                    ...       ...   \n",
      "125   informal        completely  medium                      ?  familiar   \n",
      "126   informal  no_accessibility  medium      sushi-itto.com.mx  familiar   \n",
      "127   informal  no_accessibility  medium                      ?     quiet   \n",
      "128   informal        completely     low                      ?  familiar   \n",
      "129   informal        completely     low                      ?  familiar   \n",
      "\n",
      "    franchise    area other_services  \n",
      "0           f  closed           none  \n",
      "1           f    open           none  \n",
      "2           f    open           none  \n",
      "3           t  closed           none  \n",
      "4           t  closed           none  \n",
      "..        ...     ...            ...  \n",
      "125         f  closed           none  \n",
      "126         f  closed           none  \n",
      "127         f  closed       Internet  \n",
      "128         f  closed           none  \n",
      "129         f  closed           none  \n",
      "\n",
      "[130 rows x 21 columns]\n"
     ]
    }
   ],
   "source": [
    "geoplaces2 = pd.read_csv(r'C:\\Users\\Johndg20\\Desktop\\Rest_Port\\geoplaces2.csv')\n",
    "print (geoplaces2)"
   ]
  },
  {
   "cell_type": "code",
   "execution_count": 9,
   "metadata": {},
   "outputs": [
    {
     "name": "stdout",
     "output_type": "stream",
     "text": [
      "      placeID             Rpayment\n",
      "0      135110                 cash\n",
      "1      135110                 VISA\n",
      "2      135110  MasterCard-Eurocard\n",
      "3      135110     American_Express\n",
      "4      135110     bank_debit_cards\n",
      "...       ...                  ...\n",
      "1309   132012          Diners_Club\n",
      "1310   132002  MasterCard-Eurocard\n",
      "1311   132002                 Visa\n",
      "1312   132002     American_Express\n",
      "1313   132002          Diners_Club\n",
      "\n",
      "[1314 rows x 2 columns]\n"
     ]
    }
   ],
   "source": [
    "chefmozaccepts = pd.read_csv(r'C:\\Users\\Johndg20\\Desktop\\Rest_Port\\chefmozaccepts.csv')\n",
    "print (chefmozaccepts)"
   ]
  },
  {
   "cell_type": "code",
   "execution_count": 10,
   "metadata": {},
   "outputs": [
    {
     "name": "stdout",
     "output_type": "stream",
     "text": [
      "     userID  placeID  rating  food_rating  service_rating             Rpayment\n",
      "0     U1077   135085       2            2               2                 cash\n",
      "1     U1108   135085       1            2               1                 cash\n",
      "2     U1081   135085       1            2               1                 cash\n",
      "3     U1056   135085       2            2               2                 cash\n",
      "4     U1134   135085       2            1               2                 cash\n",
      "...     ...      ...     ...          ...             ...                  ...\n",
      "2292  U1136   132958       2            2               2                 cash\n",
      "2293  U1136   132958       2            2               2                 VISA\n",
      "2294  U1136   132958       2            2               2  MasterCard-Eurocard\n",
      "2295  U1136   132958       2            2               2     American_Express\n",
      "2296  U1136   132958       2            2               2     bank_debit_cards\n",
      "\n",
      "[2297 rows x 6 columns]\n"
     ]
    }
   ],
   "source": [
    "MergeRating_Rpayment = pd.merge(rating_final, chefmozaccepts, on='placeID')   \n",
    "print (MergeRating_Rpayment)"
   ]
  },
  {
   "cell_type": "code",
   "execution_count": 12,
   "metadata": {},
   "outputs": [
    {
     "data": {
      "text/html": [
       "<div>\n",
       "<style scoped>\n",
       "    .dataframe tbody tr th:only-of-type {\n",
       "        vertical-align: middle;\n",
       "    }\n",
       "\n",
       "    .dataframe tbody tr th {\n",
       "        vertical-align: top;\n",
       "    }\n",
       "\n",
       "    .dataframe thead th {\n",
       "        text-align: right;\n",
       "    }\n",
       "</style>\n",
       "<table border=\"1\" class=\"dataframe\">\n",
       "  <thead>\n",
       "    <tr style=\"text-align: right;\">\n",
       "      <th></th>\n",
       "      <th>userID</th>\n",
       "      <th>placeID</th>\n",
       "      <th>rating</th>\n",
       "      <th>food_rating</th>\n",
       "      <th>service_rating</th>\n",
       "      <th>Rpayment</th>\n",
       "    </tr>\n",
       "  </thead>\n",
       "  <tbody>\n",
       "    <tr>\n",
       "      <td>0</td>\n",
       "      <td>U1077</td>\n",
       "      <td>135085</td>\n",
       "      <td>2</td>\n",
       "      <td>2</td>\n",
       "      <td>2</td>\n",
       "      <td>cash</td>\n",
       "    </tr>\n",
       "    <tr>\n",
       "      <td>1</td>\n",
       "      <td>U1108</td>\n",
       "      <td>135085</td>\n",
       "      <td>1</td>\n",
       "      <td>2</td>\n",
       "      <td>1</td>\n",
       "      <td>cash</td>\n",
       "    </tr>\n",
       "    <tr>\n",
       "      <td>2</td>\n",
       "      <td>U1081</td>\n",
       "      <td>135085</td>\n",
       "      <td>1</td>\n",
       "      <td>2</td>\n",
       "      <td>1</td>\n",
       "      <td>cash</td>\n",
       "    </tr>\n",
       "    <tr>\n",
       "      <td>3</td>\n",
       "      <td>U1056</td>\n",
       "      <td>135085</td>\n",
       "      <td>2</td>\n",
       "      <td>2</td>\n",
       "      <td>2</td>\n",
       "      <td>cash</td>\n",
       "    </tr>\n",
       "    <tr>\n",
       "      <td>4</td>\n",
       "      <td>U1134</td>\n",
       "      <td>135085</td>\n",
       "      <td>2</td>\n",
       "      <td>1</td>\n",
       "      <td>2</td>\n",
       "      <td>cash</td>\n",
       "    </tr>\n",
       "  </tbody>\n",
       "</table>\n",
       "</div>"
      ],
      "text/plain": [
       "  userID  placeID  rating  food_rating  service_rating Rpayment\n",
       "0  U1077   135085       2            2               2     cash\n",
       "1  U1108   135085       1            2               1     cash\n",
       "2  U1081   135085       1            2               1     cash\n",
       "3  U1056   135085       2            2               2     cash\n",
       "4  U1134   135085       2            1               2     cash"
      ]
     },
     "execution_count": 12,
     "metadata": {},
     "output_type": "execute_result"
    }
   ],
   "source": [
    "MergeRating_Rpayment.head(5)"
   ]
  },
  {
   "cell_type": "code",
   "execution_count": 13,
   "metadata": {},
   "outputs": [],
   "source": [
    "import numpy as np\n",
    "import matplotlib.mlab as mlab\n",
    "import matplotlib.pyplot as plt"
   ]
  },
  {
   "cell_type": "code",
   "execution_count": 14,
   "metadata": {},
   "outputs": [
    {
     "name": "stderr",
     "output_type": "stream",
     "text": [
      "C:\\Users\\Johndg20\\Anaconda3\\lib\\site-packages\\ipykernel_launcher.py:1: FutureWarning: `Series.plot()` should not be called with positional arguments, only keyword arguments. The order of positional arguments will change in the future. Use `Series.plot(kind='bar')` instead of `Series.plot('bar',)`.\n",
      "  \"\"\"Entry point for launching an IPython kernel.\n"
     ]
    },
    {
     "data": {
      "text/plain": [
       "<matplotlib.axes._subplots.AxesSubplot at 0x1f1cc61c7c8>"
      ]
     },
     "execution_count": 14,
     "metadata": {},
     "output_type": "execute_result"
    },
    {
     "data": {
      "image/png": "[encoded data removed]",
      "text/plain": [
       "<Figure size 432x288 with 1 Axes>"
      ]
     },
     "metadata": {
      "needs_background": "light"
     },
     "output_type": "display_data"
    }
   ],
   "source": [
    "MergeRating_Rpayment['Rpayment'].value_counts().plot('bar')"
   ]
  },
  {
   "cell_type": "code",
   "execution_count": null,
   "metadata": {},
   "outputs": [],
   "source": [
    "# Most of the payment was in cash"
   ]
  },
  {
   "cell_type": "code",
   "execution_count": null,
   "metadata": {},
   "outputs": [],
   "source": [
    "# Maybe convert Rpayment into numeric"
   ]
  },
  {
   "cell_type": "code",
   "execution_count": 15,
   "metadata": {},
   "outputs": [
    {
     "data": {
      "text/plain": [
       "Text(0, 0.5, 'service_rating')"
      ]
     },
     "execution_count": 15,
     "metadata": {},
     "output_type": "execute_result"
    },
    {
     "data": {
      "image/png": "[encoded data removed]",
      "text/plain": [
       "<Figure size 432x288 with 1 Axes>"
      ]
     },
     "metadata": {
      "needs_background": "light"
     },
     "output_type": "display_data"
    }
   ],
   "source": [
    "Plot = MergeRating_Rpayment.plot.scatter(x='food_rating', y='service_rating')\n",
    "Plot.set_title(\"Correlation b/w Food rating and service rating\")\n",
    "Plot.set_xlabel(\"food_rating\")\n",
    "Plot.set_ylabel(\"service_rating\")"
   ]
  },
  {
   "cell_type": "code",
   "execution_count": null,
   "metadata": {},
   "outputs": [],
   "source": [
    "# shows no correlation"
   ]
  },
  {
   "cell_type": "code",
   "execution_count": null,
   "metadata": {},
   "outputs": [],
   "source": [
    "# Use different parameters, previuos ones was just 1's and 2's"
   ]
  },
  {
   "cell_type": "code",
   "execution_count": 3,
   "metadata": {},
   "outputs": [
    {
     "ename": "NameError",
     "evalue": "name 'MergeRating_Rpayment' is not defined",
     "output_type": "error",
     "traceback": [
      "\u001b[1;31m---------------------------------------------------------------------------\u001b[0m",
      "\u001b[1;31mNameError\u001b[0m                                 Traceback (most recent call last)",
      "\u001b[1;32m<ipython-input-3-1b904545e438>\u001b[0m in \u001b[0;36m<module>\u001b[1;34m\u001b[0m\n\u001b[1;32m----> 1\u001b[1;33m \u001b[0mPlot\u001b[0m \u001b[1;33m=\u001b[0m \u001b[0mMergeRating_Rpayment\u001b[0m\u001b[1;33m.\u001b[0m\u001b[0mplot\u001b[0m\u001b[1;33m.\u001b[0m\u001b[0mscatter\u001b[0m\u001b[1;33m(\u001b[0m\u001b[0mx\u001b[0m\u001b[1;33m=\u001b[0m\u001b[1;34m'food_rating'\u001b[0m\u001b[1;33m,\u001b[0m \u001b[0my\u001b[0m\u001b[1;33m=\u001b[0m\u001b[1;34m'service_rating'\u001b[0m\u001b[1;33m)\u001b[0m\u001b[1;33m\u001b[0m\u001b[1;33m\u001b[0m\u001b[0m\n\u001b[0m\u001b[0;32m      2\u001b[0m \u001b[0mPlot\u001b[0m\u001b[1;33m.\u001b[0m\u001b[0mset_title\u001b[0m\u001b[1;33m(\u001b[0m\u001b[1;34m\"Correlation b/w Food rating and service rating\"\u001b[0m\u001b[1;33m)\u001b[0m\u001b[1;33m\u001b[0m\u001b[1;33m\u001b[0m\u001b[0m\n\u001b[0;32m      3\u001b[0m \u001b[0mPlot\u001b[0m\u001b[1;33m.\u001b[0m\u001b[0mset_xlabel\u001b[0m\u001b[1;33m(\u001b[0m\u001b[1;34m\"food_rating\"\u001b[0m\u001b[1;33m)\u001b[0m\u001b[1;33m\u001b[0m\u001b[1;33m\u001b[0m\u001b[0m\n\u001b[0;32m      4\u001b[0m \u001b[0mPlot\u001b[0m\u001b[1;33m.\u001b[0m\u001b[0mset_ylabel\u001b[0m\u001b[1;33m(\u001b[0m\u001b[1;34m\"service_rating\"\u001b[0m\u001b[1;33m)\u001b[0m\u001b[1;33m\u001b[0m\u001b[1;33m\u001b[0m\u001b[0m\n",
      "\u001b[1;31mNameError\u001b[0m: name 'MergeRating_Rpayment' is not defined"
     ]
    }
   ],
   "source": [
    "Plot = MergeRating_Rpayment.plot.scatter(x='food_rating', y='service_rating')\n",
    "Plot.set_title(\"Correlation b/w Food rating and service rating\")\n",
    "Plot.set_xlabel(\"food_rating\")\n",
    "Plot.set_ylabel(\"service_rating\")"
   ]
  },
  {
   "cell_type": "code",
   "execution_count": 2,
   "metadata": {},
   "outputs": [
    {
     "ename": "NameError",
     "evalue": "name 'pd' is not defined",
     "output_type": "error",
     "traceback": [
      "\u001b[1;31m---------------------------------------------------------------------------\u001b[0m",
      "\u001b[1;31mNameError\u001b[0m                                 Traceback (most recent call last)",
      "\u001b[1;32m<ipython-input-2-79409655d868>\u001b[0m in \u001b[0;36m<module>\u001b[1;34m\u001b[0m\n\u001b[1;32m----> 1\u001b[1;33m \u001b[0mMergePlace_Accepts\u001b[0m \u001b[1;33m=\u001b[0m \u001b[0mpd\u001b[0m\u001b[1;33m.\u001b[0m\u001b[0mmerge\u001b[0m\u001b[1;33m(\u001b[0m\u001b[0mgeoplaces2\u001b[0m\u001b[1;33m,\u001b[0m \u001b[0mchefmozaccepts\u001b[0m\u001b[1;33m,\u001b[0m \u001b[0mon\u001b[0m\u001b[1;33m=\u001b[0m\u001b[1;34m'placeID'\u001b[0m\u001b[1;33m)\u001b[0m\u001b[1;33m\u001b[0m\u001b[1;33m\u001b[0m\u001b[0m\n\u001b[0m\u001b[0;32m      2\u001b[0m \u001b[0mprint\u001b[0m \u001b[1;33m(\u001b[0m\u001b[0mMergePlace_Accepts\u001b[0m\u001b[1;33m)\u001b[0m\u001b[1;33m\u001b[0m\u001b[1;33m\u001b[0m\u001b[0m\n",
      "\u001b[1;31mNameError\u001b[0m: name 'pd' is not defined"
     ]
    }
   ],
   "source": [
    "MergePlace_Accepts = pd.merge(geoplaces2, chefmozaccepts, on='placeID')\n",
    "print (MergePlace_Accepts)"
   ]
  },
  {
   "cell_type": "code",
   "execution_count": 1,
   "metadata": {},
   "outputs": [
    {
     "ename": "NameError",
     "evalue": "name 'MergePlace_Accepts' is not defined",
     "output_type": "error",
     "traceback": [
      "\u001b[1;31m---------------------------------------------------------------------------\u001b[0m",
      "\u001b[1;31mNameError\u001b[0m                                 Traceback (most recent call last)",
      "\u001b[1;32m<ipython-input-1-426be469430c>\u001b[0m in \u001b[0;36m<module>\u001b[1;34m\u001b[0m\n\u001b[1;32m----> 1\u001b[1;33m \u001b[0mMergePlace_Accepts\u001b[0m\u001b[1;33m.\u001b[0m\u001b[0mhead\u001b[0m\u001b[1;33m(\u001b[0m\u001b[1;36m200\u001b[0m\u001b[1;33m)\u001b[0m\u001b[1;33m\u001b[0m\u001b[1;33m\u001b[0m\u001b[0m\n\u001b[0m",
      "\u001b[1;31mNameError\u001b[0m: name 'MergePlace_Accepts' is not defined"
     ]
    }
   ],
   "source": [
    "MergePlace_Accepts.head(200)"
   ]
  },
  {
   "cell_type": "code",
   "execution_count": 22,
   "metadata": {},
   "outputs": [
    {
     "data": {
      "text/plain": [
       "array([[<matplotlib.axes._subplots.AxesSubplot object at 0x000001F1CCA66C08>,\n",
       "        <matplotlib.axes._subplots.AxesSubplot object at 0x000001F1CCAE1648>,\n",
       "        <matplotlib.axes._subplots.AxesSubplot object at 0x000001F1CCB13A08>],\n",
       "       [<matplotlib.axes._subplots.AxesSubplot object at 0x000001F1CCB3C288>,\n",
       "        <matplotlib.axes._subplots.AxesSubplot object at 0x000001F1CCB7DA88>,\n",
       "        <matplotlib.axes._subplots.AxesSubplot object at 0x000001F1CCBB5708>],\n",
       "       [<matplotlib.axes._subplots.AxesSubplot object at 0x000001F1CCBEDF88>,\n",
       "        <matplotlib.axes._subplots.AxesSubplot object at 0x000001F1CCC23F48>,\n",
       "        <matplotlib.axes._subplots.AxesSubplot object at 0x000001F1CCC2B248>]],\n",
       "      dtype=object)"
      ]
     },
     "execution_count": 22,
     "metadata": {},
     "output_type": "execute_result"
    },
    {
     "data": {
      "image/png": "[encoded data removed]",
      "text/plain": [
       "<Figure size 432x288 with 9 Axes>"
      ]
     },
     "metadata": {
      "needs_background": "light"
     },
     "output_type": "display_data"
    }
   ],
   "source": [
    "MergePlace_Accepts.hist('price', 'Rpayment')"
   ]
  },
  {
   "cell_type": "code",
   "execution_count": 23,
   "metadata": {},
   "outputs": [
    {
     "name": "stderr",
     "output_type": "stream",
     "text": [
      "C:\\Users\\Johndg20\\Anaconda3\\lib\\site-packages\\ipykernel_launcher.py:1: FutureWarning: `Series.plot()` should not be called with positional arguments, only keyword arguments. The order of positional arguments will change in the future. Use `Series.plot(kind='bar')` instead of `Series.plot('bar',)`.\n",
      "  \"\"\"Entry point for launching an IPython kernel.\n"
     ]
    },
    {
     "data": {
      "text/plain": [
       "<matplotlib.axes._subplots.AxesSubplot at 0x1f1ccd91808>"
      ]
     },
     "execution_count": 23,
     "metadata": {},
     "output_type": "execute_result"
    },
    {
     "data": {
      "image/png": "[encoded data removed]",
      "text/plain": [
       "<Figure size 432x288 with 1 Axes>"
      ]
     },
     "metadata": {
      "needs_background": "light"
     },
     "output_type": "display_data"
    }
   ],
   "source": [
    "MergePlace_Accepts['price'].value_counts().plot('bar')"
   ]
  },
  {
   "cell_type": "code",
   "execution_count": 24,
   "metadata": {},
   "outputs": [
    {
     "name": "stderr",
     "output_type": "stream",
     "text": [
      "C:\\Users\\Johndg20\\Anaconda3\\lib\\site-packages\\ipykernel_launcher.py:12: MatplotlibDeprecationWarning: \n",
      "The 'normed' kwarg was deprecated in Matplotlib 2.1 and will be removed in 3.1. Use 'density' instead.\n",
      "  if sys.path[0] == '':\n"
     ]
    },
    {
     "data": {
      "image/png": "[encoded data removed]",
      "text/plain": [
       "<Figure size 432x288 with 1 Axes>"
      ]
     },
     "metadata": {
      "needs_background": "light"
     },
     "output_type": "display_data"
    }
   ],
   "source": [
    "import numpy as np\n",
    "import matplotlib.mlab as mlab\n",
    "import matplotlib.pyplot as plt\n",
    "\n",
    "# example data\n",
    "mu = 100 # mean of distribution\n",
    "sigma = 15 # standard deviation of distribution\n",
    "x = mu + sigma * np.random.randn(10000)\n",
    "\n",
    "num_bins = 20\n",
    "# the histogram of the data\n",
    "n, bins, patches = plt.hist(x, num_bins, normed=1, facecolor='blue', alpha=0.5)\n",
    "\n",
    "# add a 'best fit' line\n",
    "plt.xlabel('Repayment')\n",
    "plt.ylabel('Price')\n",
    "plt.title('Histogram')\n",
    "\n",
    "# Tweak spacing to prevent clipping of ylabel\n",
    "plt.subplots_adjust(left=0.15)\n",
    "plt.show()"
   ]
  },
  {
   "cell_type": "code",
   "execution_count": 25,
   "metadata": {},
   "outputs": [],
   "source": [
    "import pandas as pd\n",
    "import numpy as np\n",
    "import matplotlib.mlab as mlab\n",
    "import matplotlib.pyplot as plt"
   ]
  },
  {
   "cell_type": "code",
   "execution_count": 24,
   "metadata": {},
   "outputs": [
    {
     "data": {
      "text/plain": [
       "Text(0, 0.5, 'longitude')"
      ]
     },
     "execution_count": 24,
     "metadata": {},
     "output_type": "execute_result"
    },
    {
     "data": {
      "image/png": "[encoded data removed]",
      "text/plain": [
       "<Figure size 432x288 with 1 Axes>"
      ]
     },
     "metadata": {
      "needs_background": "light"
     },
     "output_type": "display_data"
    }
   ],
   "source": [
    "Plot = MergePlace_Accepts.plot.scatter(x='latitude', y='longitude')\n",
    "Plot.set_title(\"Latitude and Longitude\")\n",
    "Plot.set_xlabel('latitude')\n",
    "Plot.set_ylabel(\"longitude\")"
   ]
  },
  {
   "cell_type": "code",
   "execution_count": null,
   "metadata": {},
   "outputs": [],
   "source": [
    "# for scatterplot the x and y clumns need to be numeric.  "
   ]
  },
  {
   "cell_type": "code",
   "execution_count": 26,
   "metadata": {},
   "outputs": [
    {
     "data": {
      "text/plain": [
       "Text(0, 0.5, 'count')"
      ]
     },
     "execution_count": 26,
     "metadata": {},
     "output_type": "execute_result"
    },
    {
     "data": {
      "image/png": "[encoded data removed]",
      "text/plain": [
       "<Figure size 432x288 with 1 Axes>"
      ]
     },
     "metadata": {
      "needs_background": "light"
     },
     "output_type": "display_data"
    }
   ],
   "source": [
    "# plot to visualise most accepted payments by Restaurants\n",
    "chefmozacceptsplt=chefmozaccepts.Rpayment.value_counts().plot.bar(title=\"Payments Accepted\")\n",
    "chefmozacceptsplt.set_xlabel('payments mode',size=15)\n",
    "chefmozacceptsplt.set_ylabel('count',size=15)"
   ]
  },
  {
   "cell_type": "code",
   "execution_count": null,
   "metadata": {},
   "outputs": [],
   "source": [
    "# Most of the payments accepted where in Cash, Change to different colors"
   ]
  },
  {
   "cell_type": "code",
   "execution_count": 28,
   "metadata": {},
   "outputs": [
    {
     "name": "stdout",
     "output_type": "stream",
     "text": [
      "     placeID        Rcuisine\n",
      "0     135110         Spanish\n",
      "1     135109         Italian\n",
      "2     135107  Latin_American\n",
      "3     135106         Mexican\n",
      "4     135105       Fast_Food\n",
      "..       ...             ...\n",
      "911   132005         Seafood\n",
      "912   132004         Seafood\n",
      "913   132003   International\n",
      "914   132002         Seafood\n",
      "915   132001   Dutch-Belgian\n",
      "\n",
      "[916 rows x 2 columns]\n"
     ]
    }
   ],
   "source": [
    "chefmozcuisine = pd.read_csv(r'C:\\Users\\Johndg20\\Desktop\\Rest_Port\\chefmozcuisine.csv')\n",
    "print (chefmozcuisine)"
   ]
  },
  {
   "cell_type": "code",
   "execution_count": 29,
   "metadata": {},
   "outputs": [
    {
     "data": {
      "text/html": [
       "<div>\n",
       "<style scoped>\n",
       "    .dataframe tbody tr th:only-of-type {\n",
       "        vertical-align: middle;\n",
       "    }\n",
       "\n",
       "    .dataframe tbody tr th {\n",
       "        vertical-align: top;\n",
       "    }\n",
       "\n",
       "    .dataframe thead th {\n",
       "        text-align: right;\n",
       "    }\n",
       "</style>\n",
       "<table border=\"1\" class=\"dataframe\">\n",
       "  <thead>\n",
       "    <tr style=\"text-align: right;\">\n",
       "      <th></th>\n",
       "      <th>placeID</th>\n",
       "      <th>Rcuisine</th>\n",
       "    </tr>\n",
       "  </thead>\n",
       "  <tbody>\n",
       "    <tr>\n",
       "      <td>0</td>\n",
       "      <td>135110</td>\n",
       "      <td>Spanish</td>\n",
       "    </tr>\n",
       "    <tr>\n",
       "      <td>1</td>\n",
       "      <td>135109</td>\n",
       "      <td>Italian</td>\n",
       "    </tr>\n",
       "    <tr>\n",
       "      <td>2</td>\n",
       "      <td>135107</td>\n",
       "      <td>Latin_American</td>\n",
       "    </tr>\n",
       "    <tr>\n",
       "      <td>3</td>\n",
       "      <td>135106</td>\n",
       "      <td>Mexican</td>\n",
       "    </tr>\n",
       "    <tr>\n",
       "      <td>4</td>\n",
       "      <td>135105</td>\n",
       "      <td>Fast_Food</td>\n",
       "    </tr>\n",
       "  </tbody>\n",
       "</table>\n",
       "</div>"
      ],
      "text/plain": [
       "   placeID        Rcuisine\n",
       "0   135110         Spanish\n",
       "1   135109         Italian\n",
       "2   135107  Latin_American\n",
       "3   135106         Mexican\n",
       "4   135105       Fast_Food"
      ]
     },
     "execution_count": 29,
     "metadata": {},
     "output_type": "execute_result"
    }
   ],
   "source": [
    "chefmozcuisine.head(5)"
   ]
  },
  {
   "cell_type": "code",
   "execution_count": 31,
   "metadata": {},
   "outputs": [
    {
     "data": {
      "text/plain": [
       "Text(0, 0.5, 'count')"
      ]
     },
     "execution_count": 31,
     "metadata": {},
     "output_type": "execute_result"
    },
    {
     "data": {
      "image/png": "[encoded data removed]",
      "text/plain": [
       "<Figure size 432x288 with 1 Axes>"
      ]
     },
     "metadata": {
      "needs_background": "light"
     },
     "output_type": "display_data"
    }
   ],
   "source": [
    "chefmozcuisine=chefmozcuisine.Rcuisine.value_counts()[:10].plot.bar(title=\"Top 10 user cuisine\")\n",
    "chefmozcuisine.set_xlabel('user cuisine',size=15)\n",
    "chefmozcuisine.set_ylabel('count',size=15)"
   ]
  },
  {
   "cell_type": "code",
   "execution_count": null,
   "metadata": {},
   "outputs": [],
   "source": [
    "# Mexican is by far the most popular cuisine "
   ]
  },
  {
   "cell_type": "code",
   "execution_count": 7,
   "metadata": {},
   "outputs": [],
   "source": [
    "import pandas as pd"
   ]
  },
  {
   "cell_type": "code",
   "execution_count": 8,
   "metadata": {},
   "outputs": [
    {
     "name": "stdout",
     "output_type": "stream",
     "text": [
      "    userID   latitude   longitude smoker     drink_level dress_preference  \\\n",
      "0    U1001  22.139997 -100.978803  FALSE      abstemious         informal   \n",
      "1    U1002  22.150087 -100.983325  FALSE      abstemious         informal   \n",
      "2    U1003  22.119847 -100.946527  FALSE  social drinker           formal   \n",
      "3    U1004  18.867000  -99.183000  FALSE      abstemious         informal   \n",
      "4    U1005  22.183477 -100.959891  FALSE      abstemious    no preference   \n",
      "..     ...        ...         ...    ...             ...              ...   \n",
      "133  U1134  22.149654 -100.998610  FALSE  casual drinker    no preference   \n",
      "134  U1135  22.170396 -100.949936  FALSE  casual drinker         informal   \n",
      "135  U1136  22.149607 -100.997235   TRUE  social drinker    no preference   \n",
      "136  U1137  22.144803 -100.944623  FALSE  social drinker           formal   \n",
      "137  U1138  22.152884 -100.939663  FALSE  social drinker           formal   \n",
      "\n",
      "    ambience  transport marital_status        hijos  birth_year      interest  \\\n",
      "0     family    on foot         single  independent        1989       variety   \n",
      "1     family     public         single  independent        1990    technology   \n",
      "2     family     public         single  independent        1989          none   \n",
      "3     family     public         single  independent        1940       variety   \n",
      "4     family     public         single  independent        1992          none   \n",
      "..       ...        ...            ...          ...         ...           ...   \n",
      "133   family     public         single  independent        1991       variety   \n",
      "134   family    on foot         single         kids        1988       variety   \n",
      "135  friends  car owner         single  independent        1990         retro   \n",
      "136   family     public         single  independent        1989  eco-friendly   \n",
      "137  friends     public         single  independent        1991       variety   \n",
      "\n",
      "             personality  religion      activity   color  weight  budget  \\\n",
      "0      thrifty-protector      none       student   black      69  medium   \n",
      "1    hunter-ostentatious  Catholic       student     red      40     low   \n",
      "2            hard-worker  Catholic       student    blue      60     low   \n",
      "3            hard-worker      none  professional   green      44  medium   \n",
      "4      thrifty-protector  Catholic       student   black      65  medium   \n",
      "..                   ...       ...           ...     ...     ...     ...   \n",
      "133          hard-worker  Catholic       student   black      52  medium   \n",
      "134  hunter-ostentatious  Catholic       student  purple      66     low   \n",
      "135    thrifty-protector  Catholic       student   black      50     low   \n",
      "136          hard-worker  Catholic       student    blue      72     low   \n",
      "137    thrifty-protector      none       student    blue      54  medium   \n",
      "\n",
      "     height  \n",
      "0      1.77  \n",
      "1      1.87  \n",
      "2      1.69  \n",
      "3      1.53  \n",
      "4      1.69  \n",
      "..      ...  \n",
      "133    1.65  \n",
      "134    1.54  \n",
      "135    1.60  \n",
      "136    1.78  \n",
      "137    1.55  \n",
      "\n",
      "[138 rows x 19 columns]\n"
     ]
    }
   ],
   "source": [
    "userprofile = pd.read_csv(r'C:\\Users\\Johndg20\\Desktop\\Rest_Port\\userprofile.csv')\n",
    "print (userprofile)"
   ]
  },
  {
   "cell_type": "code",
   "execution_count": 10,
   "metadata": {
    "scrolled": true
   },
   "outputs": [
    {
     "data": {
      "text/html": [
       "<div>\n",
       "<style scoped>\n",
       "    .dataframe tbody tr th:only-of-type {\n",
       "        vertical-align: middle;\n",
       "    }\n",
       "\n",
       "    .dataframe tbody tr th {\n",
       "        vertical-align: top;\n",
       "    }\n",
       "\n",
       "    .dataframe thead th {\n",
       "        text-align: right;\n",
       "    }\n",
       "</style>\n",
       "<table border=\"1\" class=\"dataframe\">\n",
       "  <thead>\n",
       "    <tr style=\"text-align: right;\">\n",
       "      <th></th>\n",
       "      <th>userID</th>\n",
       "      <th>latitude</th>\n",
       "      <th>longitude</th>\n",
       "      <th>smoker</th>\n",
       "      <th>drink_level</th>\n",
       "      <th>dress_preference</th>\n",
       "      <th>ambience</th>\n",
       "      <th>transport</th>\n",
       "      <th>marital_status</th>\n",
       "      <th>hijos</th>\n",
       "      <th>birth_year</th>\n",
       "      <th>interest</th>\n",
       "      <th>personality</th>\n",
       "      <th>religion</th>\n",
       "      <th>activity</th>\n",
       "      <th>color</th>\n",
       "      <th>weight</th>\n",
       "      <th>budget</th>\n",
       "      <th>height</th>\n",
       "    </tr>\n",
       "  </thead>\n",
       "  <tbody>\n",
       "    <tr>\n",
       "      <td>0</td>\n",
       "      <td>U1001</td>\n",
       "      <td>22.139997</td>\n",
       "      <td>-100.978803</td>\n",
       "      <td>FALSE</td>\n",
       "      <td>abstemious</td>\n",
       "      <td>informal</td>\n",
       "      <td>family</td>\n",
       "      <td>on foot</td>\n",
       "      <td>single</td>\n",
       "      <td>independent</td>\n",
       "      <td>1989</td>\n",
       "      <td>variety</td>\n",
       "      <td>thrifty-protector</td>\n",
       "      <td>none</td>\n",
       "      <td>student</td>\n",
       "      <td>black</td>\n",
       "      <td>69</td>\n",
       "      <td>medium</td>\n",
       "      <td>1.77</td>\n",
       "    </tr>\n",
       "    <tr>\n",
       "      <td>1</td>\n",
       "      <td>U1002</td>\n",
       "      <td>22.150087</td>\n",
       "      <td>-100.983325</td>\n",
       "      <td>FALSE</td>\n",
       "      <td>abstemious</td>\n",
       "      <td>informal</td>\n",
       "      <td>family</td>\n",
       "      <td>public</td>\n",
       "      <td>single</td>\n",
       "      <td>independent</td>\n",
       "      <td>1990</td>\n",
       "      <td>technology</td>\n",
       "      <td>hunter-ostentatious</td>\n",
       "      <td>Catholic</td>\n",
       "      <td>student</td>\n",
       "      <td>red</td>\n",
       "      <td>40</td>\n",
       "      <td>low</td>\n",
       "      <td>1.87</td>\n",
       "    </tr>\n",
       "    <tr>\n",
       "      <td>2</td>\n",
       "      <td>U1003</td>\n",
       "      <td>22.119847</td>\n",
       "      <td>-100.946527</td>\n",
       "      <td>FALSE</td>\n",
       "      <td>social drinker</td>\n",
       "      <td>formal</td>\n",
       "      <td>family</td>\n",
       "      <td>public</td>\n",
       "      <td>single</td>\n",
       "      <td>independent</td>\n",
       "      <td>1989</td>\n",
       "      <td>none</td>\n",
       "      <td>hard-worker</td>\n",
       "      <td>Catholic</td>\n",
       "      <td>student</td>\n",
       "      <td>blue</td>\n",
       "      <td>60</td>\n",
       "      <td>low</td>\n",
       "      <td>1.69</td>\n",
       "    </tr>\n",
       "    <tr>\n",
       "      <td>3</td>\n",
       "      <td>U1004</td>\n",
       "      <td>18.867000</td>\n",
       "      <td>-99.183000</td>\n",
       "      <td>FALSE</td>\n",
       "      <td>abstemious</td>\n",
       "      <td>informal</td>\n",
       "      <td>family</td>\n",
       "      <td>public</td>\n",
       "      <td>single</td>\n",
       "      <td>independent</td>\n",
       "      <td>1940</td>\n",
       "      <td>variety</td>\n",
       "      <td>hard-worker</td>\n",
       "      <td>none</td>\n",
       "      <td>professional</td>\n",
       "      <td>green</td>\n",
       "      <td>44</td>\n",
       "      <td>medium</td>\n",
       "      <td>1.53</td>\n",
       "    </tr>\n",
       "    <tr>\n",
       "      <td>4</td>\n",
       "      <td>U1005</td>\n",
       "      <td>22.183477</td>\n",
       "      <td>-100.959891</td>\n",
       "      <td>FALSE</td>\n",
       "      <td>abstemious</td>\n",
       "      <td>no preference</td>\n",
       "      <td>family</td>\n",
       "      <td>public</td>\n",
       "      <td>single</td>\n",
       "      <td>independent</td>\n",
       "      <td>1992</td>\n",
       "      <td>none</td>\n",
       "      <td>thrifty-protector</td>\n",
       "      <td>Catholic</td>\n",
       "      <td>student</td>\n",
       "      <td>black</td>\n",
       "      <td>65</td>\n",
       "      <td>medium</td>\n",
       "      <td>1.69</td>\n",
       "    </tr>\n",
       "  </tbody>\n",
       "</table>\n",
       "</div>"
      ],
      "text/plain": [
       "  userID   latitude   longitude smoker     drink_level dress_preference  \\\n",
       "0  U1001  22.139997 -100.978803  FALSE      abstemious         informal   \n",
       "1  U1002  22.150087 -100.983325  FALSE      abstemious         informal   \n",
       "2  U1003  22.119847 -100.946527  FALSE  social drinker           formal   \n",
       "3  U1004  18.867000  -99.183000  FALSE      abstemious         informal   \n",
       "4  U1005  22.183477 -100.959891  FALSE      abstemious    no preference   \n",
       "\n",
       "  ambience transport marital_status        hijos  birth_year    interest  \\\n",
       "0   family   on foot         single  independent        1989     variety   \n",
       "1   family    public         single  independent        1990  technology   \n",
       "2   family    public         single  independent        1989        none   \n",
       "3   family    public         single  independent        1940     variety   \n",
       "4   family    public         single  independent        1992        none   \n",
       "\n",
       "           personality  religion      activity  color  weight  budget  height  \n",
       "0    thrifty-protector      none       student  black      69  medium    1.77  \n",
       "1  hunter-ostentatious  Catholic       student    red      40     low    1.87  \n",
       "2          hard-worker  Catholic       student   blue      60     low    1.69  \n",
       "3          hard-worker      none  professional  green      44  medium    1.53  \n",
       "4    thrifty-protector  Catholic       student  black      65  medium    1.69  "
      ]
     },
     "execution_count": 10,
     "metadata": {},
     "output_type": "execute_result"
    }
   ],
   "source": [
    "userprofile.head(5)"
   ]
  },
  {
   "cell_type": "code",
   "execution_count": null,
   "metadata": {},
   "outputs": [],
   "source": []
  }
 ],
 "metadata": {
  "kernelspec": {
   "display_name": "Python 3",
   "language": "python",
   "name": "python3"
  },
  "language_info": {
   "codemirror_mode": {
    "name": "ipython",
    "version": 3
   },
   "file_extension": ".py",
   "mimetype": "text/x-python",
   "name": "python",
   "nbconvert_exporter": "python",
   "pygments_lexer": "ipython3",
   "version": "3.7.4"
  }
 },
 "nbformat": 4,
 "nbformat_minor": 2
}
